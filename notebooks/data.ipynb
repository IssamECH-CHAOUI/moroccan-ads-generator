{
 "cells": [
  {
   "attachments": {},
   "cell_type": "markdown",
   "id": "f133d1af",
   "metadata": {},
   "source": [
    "# Working with Data"
   ]
  },
  {
   "attachments": {},
   "cell_type": "markdown",
   "id": "231cb7ec",
   "metadata": {},
   "source": [
    "In this notebook, we are going to work on the datasets that are going to be used in order to fine tune our NLP models.  \n",
    "The different steps that we are going to follow are:\n",
    "\n",
    "- Scraping ads data from Moroccan youtube products channels"
   ]
  },
  {
   "cell_type": "markdown",
   "id": "16b29ad2",
   "metadata": {},
   "source": []
  },
  {
   "cell_type": "code",
   "execution_count": 1,
   "id": "95d017d5",
   "metadata": {},
   "outputs": [],
   "source": [
    "from selenium import webdriver\n",
    "from selenium.webdriver.common.by import By\n",
    "from bs4 import BeautifulSoup\n",
    "import time\n",
    "import pandas as pd"
   ]
  },
  {
   "cell_type": "code",
   "execution_count": 2,
   "id": "3dc9ac8f",
   "metadata": {},
   "outputs": [],
   "source": [
    "def scrape_ads(url):\n",
    "    # Launch the Chrome driver\n",
    "    driver = webdriver.Chrome('C:\\chromedriver\\chromedriver')\n",
    "    driver.get(url)\n",
    "\n",
    "    # Scroll down to load more videos\n",
    "    height = driver.execute_script(\"return document.documentElement.scrollHeight\")\n",
    "    start_time = time.time()\n",
    "    while True:\n",
    "        driver.execute_script(\"window.scrollTo(0, document.documentElement.scrollHeight)\")\n",
    "        time.sleep(1)\n",
    "        new_height = driver.execute_script(\"return document.documentElement.scrollHeight\")\n",
    "        if new_height == height:\n",
    "            break\n",
    "        height = new_height\n",
    "        if time.time() - start_time >= 5:\n",
    "            break\n",
    "\n",
    "    # Scrape links to individual videos\n",
    "    src = driver.page_source \n",
    "    soup = BeautifulSoup(src, 'lxml')\n",
    "    pub = soup.find_all('a', {'id': 'video-title-link'})\n",
    "    links=[]\n",
    "    for link in pub:\n",
    "        href = link.get('href')\n",
    "        if href is not None:\n",
    "            links.append(\"https://www.youtube.com/\" + href)\n",
    "\n",
    "    # Scrape ads from each individual video\n",
    "    ads=[]\n",
    "    for link in links[0:len(links)-1]:\n",
    "        driver.get(link)\n",
    "        time.sleep(2)\n",
    "        src = driver.page_source \n",
    "        soup = BeautifulSoup(src, 'lxml')\n",
    "        ad = soup.find('span', {'class' : 'yt-core-attributed-string yt-core-attributed-string--white-space-pre-wrap'})\n",
    "        if ad:\n",
    "            ads.append(ad.text)\n",
    "\n",
    "    # Quit the driver and return the list of ads\n",
    "    driver.quit()\n",
    "    return ads\n"
   ]
  },
  {
   "cell_type": "code",
   "execution_count": 3,
   "id": "1cc585a3",
   "metadata": {},
   "outputs": [
    {
     "name": "stderr",
     "output_type": "stream",
     "text": [
      "C:\\Users\\ADS\\AppData\\Local\\Temp\\ipykernel_15248\\4002602606.py:3: DeprecationWarning: executable_path has been deprecated, please pass in a Service object\n",
      "  driver = webdriver.Chrome('C:\\chromedriver\\chromedriver')\n"
     ]
    }
   ],
   "source": [
    "ads0 = scrape_ads(\"https://www.youtube.com/@orangemaroc/videos\")"
   ]
  },
  {
   "cell_type": "code",
   "execution_count": 5,
   "id": "cc3bf15f",
   "metadata": {},
   "outputs": [
    {
     "name": "stderr",
     "output_type": "stream",
     "text": [
      "C:\\Users\\ADS\\AppData\\Local\\Temp\\ipykernel_15248\\4002602606.py:3: DeprecationWarning: executable_path has been deprecated, please pass in a Service object\n",
      "  driver = webdriver.Chrome('C:\\chromedriver\\chromedriver')\n"
     ]
    }
   ],
   "source": [
    "ads1 = scrape_ads(\"https://www.youtube.com/@maroctelecom/videos\")"
   ]
  },
  {
   "cell_type": "code",
   "execution_count": 13,
   "id": "9b19c516",
   "metadata": {},
   "outputs": [
    {
     "name": "stderr",
     "output_type": "stream",
     "text": [
      "C:\\Users\\ADS\\AppData\\Local\\Temp\\ipykernel_15248\\4002602606.py:3: DeprecationWarning: executable_path has been deprecated, please pass in a Service object\n",
      "  driver = webdriver.Chrome('C:\\chromedriver\\chromedriver')\n"
     ]
    }
   ],
   "source": [
    "ads2 = scrape_ads(\"https://www.youtube.com/@BimoOfficiel/videos\")"
   ]
  },
  {
   "cell_type": "code",
   "execution_count": 11,
   "id": "e5919b12",
   "metadata": {},
   "outputs": [
    {
     "name": "stderr",
     "output_type": "stream",
     "text": [
      "C:\\Users\\ADS\\AppData\\Local\\Temp\\ipykernel_15248\\4002602606.py:3: DeprecationWarning: executable_path has been deprecated, please pass in a Service object\n",
      "  driver = webdriver.Chrome('C:\\chromedriver\\chromedriver')\n"
     ]
    }
   ],
   "source": [
    "ads3 = scrape_ads(\"https://www.youtube.com/@inwi/videos\")"
   ]
  },
  {
   "cell_type": "code",
   "execution_count": 38,
   "id": "587f5161",
   "metadata": {},
   "outputs": [],
   "source": [
    "df = pd.DataFrame({\"ads\": ads0 + ads1 + ads2 + ads3})"
   ]
  },
  {
   "cell_type": "code",
   "execution_count": 41,
   "id": "7cf584b8",
   "metadata": {},
   "outputs": [
    {
     "data": {
      "text/html": [
       "<div>\n",
       "<style scoped>\n",
       "    .dataframe tbody tr th:only-of-type {\n",
       "        vertical-align: middle;\n",
       "    }\n",
       "\n",
       "    .dataframe tbody tr th {\n",
       "        vertical-align: top;\n",
       "    }\n",
       "\n",
       "    .dataframe thead th {\n",
       "        text-align: right;\n",
       "    }\n",
       "</style>\n",
       "<table border=\"1\" class=\"dataframe\">\n",
       "  <thead>\n",
       "    <tr style=\"text-align: right;\">\n",
       "      <th></th>\n",
       "      <th>ads</th>\n",
       "    </tr>\n",
       "  </thead>\n",
       "  <tbody>\n",
       "    <tr>\n",
       "      <th>0</th>\n",
       "      <td>حصرياً و غير عند اورنج، عيش لفيبر فدارك ونتا ه...</td>\n",
       "    </tr>\n",
       "    <tr>\n",
       "      <th>1</th>\n",
       "      <td>تعرفوا معنا على سر الحرفة مع فاطمة، عمران و هش...</td>\n",
       "    </tr>\n",
       "    <tr>\n",
       "      <th>2</th>\n",
       "      <td>بفضل الخطوات ديالكم 🤗 وزعنا الاأنترنت على عدة ...</td>\n",
       "    </tr>\n",
       "    <tr>\n",
       "      <th>3</th>\n",
       "      <td>الساعة جديدة هادي ولا القديمة ؟ 😅 \\nشكون فعائل...</td>\n",
       "    </tr>\n",
       "    <tr>\n",
       "      <th>4</th>\n",
       "      <td>حيت عندنا ديما نتا لول، تبرع بالماكس ديال السخ...</td>\n",
       "    </tr>\n",
       "    <tr>\n",
       "      <th>...</th>\n",
       "      <td>...</td>\n",
       "    </tr>\n",
       "    <tr>\n",
       "      <th>485</th>\n",
       "      <td>inwi, en partenariat avec 2M, lance la 2ème sa...</td>\n",
       "    </tr>\n",
       "    <tr>\n",
       "      <th>486</th>\n",
       "      <td>#inwi_m3ak avec les offres wifi f'dar généreus...</td>\n",
       "    </tr>\n",
       "    <tr>\n",
       "      <th>487</th>\n",
       "      <td>ila ghayate 31/12</td>\n",
       "    </tr>\n",
       "    <tr>\n",
       "      <th>488</th>\n",
       "      <td>Découvrez notre premier candidat pour le Prime...</td>\n",
       "    </tr>\n",
       "    <tr>\n",
       "      <th>489</th>\n",
       "      <td>#inwi_M3ak</td>\n",
       "    </tr>\n",
       "  </tbody>\n",
       "</table>\n",
       "<p>490 rows × 1 columns</p>\n",
       "</div>"
      ],
      "text/plain": [
       "                                                   ads\n",
       "0    حصرياً و غير عند اورنج، عيش لفيبر فدارك ونتا ه...\n",
       "1    تعرفوا معنا على سر الحرفة مع فاطمة، عمران و هش...\n",
       "2    بفضل الخطوات ديالكم 🤗 وزعنا الاأنترنت على عدة ...\n",
       "3    الساعة جديدة هادي ولا القديمة ؟ 😅 \\nشكون فعائل...\n",
       "4    حيت عندنا ديما نتا لول، تبرع بالماكس ديال السخ...\n",
       "..                                                 ...\n",
       "485  inwi, en partenariat avec 2M, lance la 2ème sa...\n",
       "486  #inwi_m3ak avec les offres wifi f'dar généreus...\n",
       "487                                  ila ghayate 31/12\n",
       "488  Découvrez notre premier candidat pour le Prime...\n",
       "489                                         #inwi_M3ak\n",
       "\n",
       "[490 rows x 1 columns]"
      ]
     },
     "execution_count": 41,
     "metadata": {},
     "output_type": "execute_result"
    }
   ],
   "source": [
    "df"
   ]
  },
  {
   "cell_type": "code",
   "execution_count": 40,
   "id": "4cc4df76",
   "metadata": {},
   "outputs": [],
   "source": [
    "df.to_csv(\"ads_before_cleaning.csv\", index=False)"
   ]
  },
  {
   "cell_type": "markdown",
   "id": "d249a396",
   "metadata": {},
   "source": [
    "# Data cleaning"
   ]
  },
  {
   "cell_type": "code",
   "execution_count": 14,
   "id": "2907244a",
   "metadata": {},
   "outputs": [],
   "source": [
    "import re"
   ]
  },
  {
   "cell_type": "code",
   "execution_count": 26,
   "id": "8ff7df43",
   "metadata": {},
   "outputs": [],
   "source": [
    "def clean_text(text):\n",
    "    # Remove emojis\n",
    "    text = re.sub('[^\\u0600-\\u06FF\\s]+', '', text)\n",
    "    # Remove non-Arabic letters and numbers\n",
    "    text = re.sub('[^؀-ۿ\\s]+', '', text)\n",
    "    # Remove extra spaces\n",
    "    text = re.sub('\\s+', ' ', text)\n",
    "    return text.strip()"
   ]
  },
  {
   "cell_type": "code",
   "execution_count": 27,
   "id": "0885a0ba",
   "metadata": {},
   "outputs": [],
   "source": [
    "# apply the function to the ads column\n",
    "df['ads_clean'] = df['ads'].apply(clean_text)"
   ]
  },
  {
   "cell_type": "code",
   "execution_count": 31,
   "id": "e07d2741",
   "metadata": {},
   "outputs": [],
   "source": [
    "df.drop('ads', axis=1, inplace=True)"
   ]
  },
  {
   "cell_type": "code",
   "execution_count": 33,
   "id": "215c0860",
   "metadata": {},
   "outputs": [],
   "source": [
    "df.dropna(subset=['ads_clean'], inplace=True)"
   ]
  },
  {
   "cell_type": "code",
   "execution_count": 34,
   "id": "03058ad4",
   "metadata": {},
   "outputs": [
    {
     "data": {
      "text/html": [
       "<div>\n",
       "<style scoped>\n",
       "    .dataframe tbody tr th:only-of-type {\n",
       "        vertical-align: middle;\n",
       "    }\n",
       "\n",
       "    .dataframe tbody tr th {\n",
       "        vertical-align: top;\n",
       "    }\n",
       "\n",
       "    .dataframe thead th {\n",
       "        text-align: right;\n",
       "    }\n",
       "</style>\n",
       "<table border=\"1\" class=\"dataframe\">\n",
       "  <thead>\n",
       "    <tr style=\"text-align: right;\">\n",
       "      <th></th>\n",
       "      <th>ads_clean</th>\n",
       "    </tr>\n",
       "  </thead>\n",
       "  <tbody>\n",
       "    <tr>\n",
       "      <th>0</th>\n",
       "      <td>حصرياً و غير عند اورنج، عيش لفيبر فدارك ونتا ه...</td>\n",
       "    </tr>\n",
       "    <tr>\n",
       "      <th>1</th>\n",
       "      <td>تعرفوا معنا على سر الحرفة مع فاطمة، عمران و هش...</td>\n",
       "    </tr>\n",
       "    <tr>\n",
       "      <th>2</th>\n",
       "      <td>بفضل الخطوات ديالكم وزعنا الاأنترنت على عدة جم...</td>\n",
       "    </tr>\n",
       "    <tr>\n",
       "      <th>3</th>\n",
       "      <td>الساعة جديدة هادي ولا القديمة ؟ شكون فعائلتك و...</td>\n",
       "    </tr>\n",
       "    <tr>\n",
       "      <th>4</th>\n",
       "      <td>حيت عندنا ديما نتا لول، تبرع بالماكس ديال السخ...</td>\n",
       "    </tr>\n",
       "    <tr>\n",
       "      <th>...</th>\n",
       "      <td>...</td>\n",
       "    </tr>\n",
       "    <tr>\n",
       "      <th>485</th>\n",
       "      <td></td>\n",
       "    </tr>\n",
       "    <tr>\n",
       "      <th>486</th>\n",
       "      <td></td>\n",
       "    </tr>\n",
       "    <tr>\n",
       "      <th>487</th>\n",
       "      <td></td>\n",
       "    </tr>\n",
       "    <tr>\n",
       "      <th>488</th>\n",
       "      <td></td>\n",
       "    </tr>\n",
       "    <tr>\n",
       "      <th>489</th>\n",
       "      <td></td>\n",
       "    </tr>\n",
       "  </tbody>\n",
       "</table>\n",
       "<p>490 rows × 1 columns</p>\n",
       "</div>"
      ],
      "text/plain": [
       "                                             ads_clean\n",
       "0    حصرياً و غير عند اورنج، عيش لفيبر فدارك ونتا ه...\n",
       "1    تعرفوا معنا على سر الحرفة مع فاطمة، عمران و هش...\n",
       "2    بفضل الخطوات ديالكم وزعنا الاأنترنت على عدة جم...\n",
       "3    الساعة جديدة هادي ولا القديمة ؟ شكون فعائلتك و...\n",
       "4    حيت عندنا ديما نتا لول، تبرع بالماكس ديال السخ...\n",
       "..                                                 ...\n",
       "485                                                   \n",
       "486                                                   \n",
       "487                                                   \n",
       "488                                                   \n",
       "489                                                   \n",
       "\n",
       "[490 rows x 1 columns]"
      ]
     },
     "execution_count": 34,
     "metadata": {},
     "output_type": "execute_result"
    }
   ],
   "source": [
    "df"
   ]
  },
  {
   "cell_type": "code",
   "execution_count": 35,
   "id": "b86bfd68",
   "metadata": {},
   "outputs": [],
   "source": [
    "df = df[df['ads_clean'].apply(lambda x: not x.strip() == '')]"
   ]
  },
  {
   "cell_type": "code",
   "execution_count": 37,
   "id": "5b7fcc0e",
   "metadata": {},
   "outputs": [],
   "source": [
    "df.to_csv(\"ads.csv\", index=False)"
   ]
  },
  {
   "cell_type": "code",
   "execution_count": null,
   "id": "7e00be51",
   "metadata": {},
   "outputs": [],
   "source": []
  }
 ],
 "metadata": {
  "kernelspec": {
   "display_name": "Python 3 (ipykernel)",
   "language": "python",
   "name": "python3"
  },
  "language_info": {
   "codemirror_mode": {
    "name": "ipython",
    "version": 3
   },
   "file_extension": ".py",
   "mimetype": "text/x-python",
   "name": "python",
   "nbconvert_exporter": "python",
   "pygments_lexer": "ipython3",
   "version": "3.9.13"
  }
 },
 "nbformat": 4,
 "nbformat_minor": 5
}
