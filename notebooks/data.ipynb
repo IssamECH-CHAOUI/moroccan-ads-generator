{
 "cells": [
  {
   "attachments": {},
   "cell_type": "markdown",
   "id": "f133d1af",
   "metadata": {},
   "source": [
    "# Working with Data"
   ]
  },
  {
   "attachments": {},
   "cell_type": "markdown",
   "id": "231cb7ec",
   "metadata": {},
   "source": [
    "In this notebook, we are going to work on the datasets that are going to be used in order to fine tune our NLP models.  \n",
    "The different steps that we are going to follow are:\n",
    "\n",
    "- Scraping ads data from Moroccan youtube products channels\n",
    "- Clean the data in order to show the ads content that is in Moroccan dialect"
   ]
  },
  {
   "attachments": {},
   "cell_type": "markdown",
   "id": "de2027d6",
   "metadata": {},
   "source": [
    "## Import Libraries"
   ]
  },
  {
   "cell_type": "code",
   "execution_count": 1,
   "id": "95d017d5",
   "metadata": {},
   "outputs": [],
   "source": [
    "import pandas as pd\n",
    "import time\n",
    "\n",
    "from selenium import webdriver\n",
    "from selenium.webdriver.common.by import By\n",
    "from bs4 import BeautifulSoup"
   ]
  },
  {
   "attachments": {},
   "cell_type": "markdown",
   "metadata": {},
   "source": [
    "## Scrapping Data"
   ]
  },
  {
   "cell_type": "code",
   "execution_count": 2,
   "id": "3dc9ac8f",
   "metadata": {},
   "outputs": [],
   "source": [
    "# define a function to scrape the data\n",
    "def scrape_ads(url):\n",
    "    ''' Takes a URL to a youtube channel and returns a list of ads from the channel\n",
    "    '''\n",
    "    # Launch the Chrome driver\n",
    "    driver = webdriver.Chrome('../drivers/chromedriver')\n",
    "    driver.get(url)\n",
    "\n",
    "    # Scroll down to load more videos\n",
    "    height = driver.execute_script(\"return document.documentElement.scrollHeight\")\n",
    "    start_time = time.time()\n",
    "    while True:\n",
    "        driver.execute_script(\"window.scrollTo(0, document.documentElement.scrollHeight)\")\n",
    "        time.sleep(1)\n",
    "        new_height = driver.execute_script(\"return document.documentElement.scrollHeight\")\n",
    "        if new_height == height:\n",
    "            break\n",
    "        height = new_height\n",
    "        if time.time() - start_time >= 5:\n",
    "            break\n",
    "\n",
    "    # Scrape links to individual videos\n",
    "    src = driver.page_source \n",
    "    soup = BeautifulSoup(src, 'lxml')\n",
    "    pub = soup.find_all('a', {'id': 'video-title-link'})\n",
    "    links=[]\n",
    "    for link in pub:\n",
    "        href = link.get('href')\n",
    "        if href is not None:\n",
    "            links.append(\"https://www.youtube.com/\" + href)\n",
    "\n",
    "    # Scrape ads from each individual video\n",
    "    ads=[]\n",
    "    for link in links[:-1]:\n",
    "        driver.get(link)\n",
    "        time.sleep(2)\n",
    "        src = driver.page_source \n",
    "        soup = BeautifulSoup(src, 'lxml')\n",
    "        ad = soup.find('span', {'class' : 'yt-core-attributed-string yt-core-attributed-string--white-space-pre-wrap'})\n",
    "        if ad:\n",
    "            ads.append(ad.text)\n",
    "\n",
    "    # Quit the driver and return the list of ads\n",
    "    driver.quit()\n",
    "    return ads"
   ]
  },
  {
   "cell_type": "code",
   "execution_count": null,
   "id": "8d2c4ede",
   "metadata": {},
   "outputs": [],
   "source": [
    "# get the ads for the most famous channels\n",
    "channels = ['orangemaroc', 'maroctelecom', 'BimoOfficiel', 'inwi']\n",
    "\n",
    "# create a dataframe to store the ads\n",
    "df = pd.DataFrame(columns=['ad'])\n",
    "\n",
    "for channel in channels:\n",
    "    ads = scrape_ads(\"https://www.youtube.com/\" + channel + \"/videos\")\n",
    "    df = df.append(pd.DataFrame(ads, columns=['ad']), ignore_index=True)"
   ]
  },
  {
   "cell_type": "code",
   "execution_count": null,
   "id": "782ddf82",
   "metadata": {},
   "outputs": [],
   "source": [
    "# inspect the data\n",
    "df.head()"
   ]
  },
  {
   "cell_type": "markdown",
   "id": "d249a396",
   "metadata": {},
   "source": [
    "# Data cleaning"
   ]
  },
  {
   "cell_type": "code",
   "execution_count": 26,
   "id": "8ff7df43",
   "metadata": {},
   "outputs": [],
   "source": [
    "import re\n",
    "\n",
    "def clean_text(text):\n",
    "    ''' Takes raw text as input and returns cleaned text\n",
    "    '''\n",
    "    # Remove emojis\n",
    "    text = re.sub('[^\\u0600-\\u06FF\\s]+', '', text)\n",
    "    # Remove non-Arabic letters and numbers\n",
    "    text = re.sub('[^؀-ۿ\\s]+', '', text)\n",
    "    # Remove extra spaces\n",
    "    text = re.sub('\\s+', ' ', text)\n",
    "    return text.strip()"
   ]
  },
  {
   "cell_type": "code",
   "execution_count": 27,
   "id": "0885a0ba",
   "metadata": {},
   "outputs": [],
   "source": [
    "# apply the function to the ads column\n",
    "df['ads'] = df['ads'].apply(clean_text)"
   ]
  },
  {
   "cell_type": "code",
   "execution_count": 34,
   "id": "03058ad4",
   "metadata": {},
   "outputs": [
    {
     "data": {
      "text/html": [
       "<div>\n",
       "<style scoped>\n",
       "    .dataframe tbody tr th:only-of-type {\n",
       "        vertical-align: middle;\n",
       "    }\n",
       "\n",
       "    .dataframe tbody tr th {\n",
       "        vertical-align: top;\n",
       "    }\n",
       "\n",
       "    .dataframe thead th {\n",
       "        text-align: right;\n",
       "    }\n",
       "</style>\n",
       "<table border=\"1\" class=\"dataframe\">\n",
       "  <thead>\n",
       "    <tr style=\"text-align: right;\">\n",
       "      <th></th>\n",
       "      <th>ads_clean</th>\n",
       "    </tr>\n",
       "  </thead>\n",
       "  <tbody>\n",
       "    <tr>\n",
       "      <th>0</th>\n",
       "      <td>حصرياً و غير عند اورنج، عيش لفيبر فدارك ونتا ه...</td>\n",
       "    </tr>\n",
       "    <tr>\n",
       "      <th>1</th>\n",
       "      <td>تعرفوا معنا على سر الحرفة مع فاطمة، عمران و هش...</td>\n",
       "    </tr>\n",
       "    <tr>\n",
       "      <th>2</th>\n",
       "      <td>بفضل الخطوات ديالكم وزعنا الاأنترنت على عدة جم...</td>\n",
       "    </tr>\n",
       "    <tr>\n",
       "      <th>3</th>\n",
       "      <td>الساعة جديدة هادي ولا القديمة ؟ شكون فعائلتك و...</td>\n",
       "    </tr>\n",
       "    <tr>\n",
       "      <th>4</th>\n",
       "      <td>حيت عندنا ديما نتا لول، تبرع بالماكس ديال السخ...</td>\n",
       "    </tr>\n",
       "    <tr>\n",
       "      <th>...</th>\n",
       "      <td>...</td>\n",
       "    </tr>\n",
       "    <tr>\n",
       "      <th>485</th>\n",
       "      <td></td>\n",
       "    </tr>\n",
       "    <tr>\n",
       "      <th>486</th>\n",
       "      <td></td>\n",
       "    </tr>\n",
       "    <tr>\n",
       "      <th>487</th>\n",
       "      <td></td>\n",
       "    </tr>\n",
       "    <tr>\n",
       "      <th>488</th>\n",
       "      <td></td>\n",
       "    </tr>\n",
       "    <tr>\n",
       "      <th>489</th>\n",
       "      <td></td>\n",
       "    </tr>\n",
       "  </tbody>\n",
       "</table>\n",
       "<p>490 rows × 1 columns</p>\n",
       "</div>"
      ],
      "text/plain": [
       "                                             ads_clean\n",
       "0    حصرياً و غير عند اورنج، عيش لفيبر فدارك ونتا ه...\n",
       "1    تعرفوا معنا على سر الحرفة مع فاطمة، عمران و هش...\n",
       "2    بفضل الخطوات ديالكم وزعنا الاأنترنت على عدة جم...\n",
       "3    الساعة جديدة هادي ولا القديمة ؟ شكون فعائلتك و...\n",
       "4    حيت عندنا ديما نتا لول، تبرع بالماكس ديال السخ...\n",
       "..                                                 ...\n",
       "485                                                   \n",
       "486                                                   \n",
       "487                                                   \n",
       "488                                                   \n",
       "489                                                   \n",
       "\n",
       "[490 rows x 1 columns]"
      ]
     },
     "execution_count": 34,
     "metadata": {},
     "output_type": "execute_result"
    }
   ],
   "source": [
    "# inspect the data\n",
    "df.head()"
   ]
  },
  {
   "attachments": {},
   "cell_type": "markdown",
   "id": "fd9e06b5",
   "metadata": {},
   "source": [
    "We see some data with blank content, we are going to remove them."
   ]
  },
  {
   "cell_type": "code",
   "execution_count": 35,
   "id": "b86bfd68",
   "metadata": {},
   "outputs": [],
   "source": [
    "# remove blank ads\n",
    "df = df[df['ads'] != '']"
   ]
  },
  {
   "attachments": {},
   "cell_type": "markdown",
   "id": "1fb4704a",
   "metadata": {},
   "source": [
    "Lastly, we are going to save the data in a csv file."
   ]
  },
  {
   "cell_type": "code",
   "execution_count": 37,
   "id": "5b7fcc0e",
   "metadata": {},
   "outputs": [],
   "source": [
    "df.to_csv(\"../data/ads.csv\", index=False)"
   ]
  }
 ],
 "metadata": {
  "kernelspec": {
   "display_name": "Python 3 (ipykernel)",
   "language": "python",
   "name": "python3"
  },
  "language_info": {
   "codemirror_mode": {
    "name": "ipython",
    "version": 3
   },
   "file_extension": ".py",
   "mimetype": "text/x-python",
   "name": "python",
   "nbconvert_exporter": "python",
   "pygments_lexer": "ipython3",
   "version": "3.9.1"
  }
 },
 "nbformat": 4,
 "nbformat_minor": 5
}
